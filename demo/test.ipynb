{
 "cells": [
  {
   "cell_type": "markdown",
   "source": [
    "# MMDetection Mask Color\n",
    "\n",
    "输出语义分割时，不同类别的色彩代码\n",
    "默认是使用随机生成的色彩空间，因此使用同样的随机种子，把色彩空间输出\n",
    "注意，mmdetection默认的色彩空间描述是BGR顺序\n",
    "Color of masks. The tuple of color should be in BGR order."
   ],
   "metadata": {
    "collapsed": false
   }
  },
  {
   "cell_type": "code",
   "execution_count": 4,
   "outputs": [],
   "source": [
    "import matplotlib.pyplot as plt\n",
    "import mmcv\n",
    "import numpy as np\n",
    "import pycocotools.mask as mask_util\n",
    "from matplotlib.collections import PatchCollection\n",
    "# from matplotlib.patches import Polygon\n",
    "\n",
    "# from ..utils import mask2ndarray"
   ],
   "metadata": {
    "collapsed": false,
    "pycharm": {
     "name": "#%%\n"
    }
   }
  },
  {
   "cell_type": "code",
   "execution_count": 7,
   "outputs": [
    {
     "name": "stdout",
     "output_type": "stream",
     "text": [
      "Hello\n"
     ]
    }
   ],
   "source": [
    "print('Hello')"
   ],
   "metadata": {
    "collapsed": false,
    "pycharm": {
     "name": "#%%\n"
    }
   }
  },
  {
   "cell_type": "code",
   "execution_count": 10,
   "outputs": [],
   "source": [
    "np.random.seed(42)\n",
    "mask_colors = [\n",
    "    np.random.randint(0, 256, (1, 3), dtype=np.uint8)\n",
    "    for _ in range(49 + 1)]"
   ],
   "metadata": {
    "collapsed": false,
    "pycharm": {
     "name": "#%%\n"
    }
   }
  },
  {
   "cell_type": "code",
   "execution_count": 11,
   "outputs": [
    {
     "name": "stdout",
     "output_type": "stream",
     "text": [
      "[array([[102, 220, 225]], dtype=uint8), array([[179,  61, 234]], dtype=uint8), array([[92,  3, 98]], dtype=uint8), array([[ 14, 149, 245]], dtype=uint8), array([[106, 244,  99]], dtype=uint8), array([[ 71, 212, 153]], dtype=uint8), array([[188, 174,  65]], dtype=uint8), array([[ 20,  44, 203]], dtype=uint8), array([[102, 214, 240]], dtype=uint8), array([[121,  24,  34]], dtype=uint8), array([[210,  65, 239]], dtype=uint8), array([[214, 244, 151]], dtype=uint8), array([[ 74, 145, 222]], dtype=uint8), array([[202,  85, 145]], dtype=uint8), array([[ 87, 184, 189]], dtype=uint8), array([[116, 237, 109]], dtype=uint8), array([[ 99, 172, 226]], dtype=uint8), array([[103, 235, 146]], dtype=uint8), array([[151,  62,  68]], dtype=uint8), array([[130, 160, 160]], dtype=uint8), array([[149,   6,  69]], dtype=uint8), array([[ 52, 253, 112]], dtype=uint8), array([[ 1,  3, 76]], dtype=uint8), array([[ 87, 233, 212]], dtype=uint8), array([[235, 245,  26]], dtype=uint8), array([[157, 253,  68]], dtype=uint8), array([[ 37, 219,  91]], dtype=uint8), array([[129,   9,  51]], dtype=uint8), array([[191,  20, 140]], dtype=uint8), array([[187, 147,   1]], dtype=uint8), array([[ 20, 153, 243]], dtype=uint8), array([[160,  68,  19]], dtype=uint8), array([[203, 209, 226]], dtype=uint8), array([[ 57,  77, 149]], dtype=uint8), array([[ 21, 112,  86]], dtype=uint8), array([[252,  24, 207]], dtype=uint8), array([[235, 242, 147]], dtype=uint8), array([[ 88, 107, 231]], dtype=uint8), array([[ 48, 254, 141]], dtype=uint8), array([[218, 161,  87]], dtype=uint8), array([[ 58, 100, 162]], dtype=uint8), array([[254,  73,  93]], dtype=uint8), array([[169, 222, 181]], dtype=uint8), array([[255,  71, 242]], dtype=uint8), array([[219, 253, 201]], dtype=uint8), array([[187,  10,  72]], dtype=uint8), array([[207, 227, 201]], dtype=uint8), array([[ 14, 231, 150]], dtype=uint8), array([[189,   0, 193]], dtype=uint8), array([[189, 251,  49]], dtype=uint8)]\n"
     ]
    }
   ],
   "source": [
    "print(mask_colors)"
   ],
   "metadata": {
    "collapsed": false,
    "pycharm": {
     "name": "#%%\n"
    }
   }
  },
  {
   "cell_type": "code",
   "execution_count": 12,
   "outputs": [],
   "source": [
    "np.random.seed(42)\n",
    "mask_colors = [\n",
    "    np.random.randint(0, 256, (1, 3), dtype=np.uint8)\n",
    "    for _ in range(49 + 1)]\n"
   ],
   "metadata": {
    "collapsed": false,
    "pycharm": {
     "name": "#%%\n"
    }
   }
  },
  {
   "cell_type": "code",
   "execution_count": 13,
   "outputs": [
    {
     "name": "stdout",
     "output_type": "stream",
     "text": [
      "[array([[102, 220, 225]], dtype=uint8), array([[179,  61, 234]], dtype=uint8), array([[92,  3, 98]], dtype=uint8), array([[ 14, 149, 245]], dtype=uint8), array([[106, 244,  99]], dtype=uint8), array([[ 71, 212, 153]], dtype=uint8), array([[188, 174,  65]], dtype=uint8), array([[ 20,  44, 203]], dtype=uint8), array([[102, 214, 240]], dtype=uint8), array([[121,  24,  34]], dtype=uint8), array([[210,  65, 239]], dtype=uint8), array([[214, 244, 151]], dtype=uint8), array([[ 74, 145, 222]], dtype=uint8), array([[202,  85, 145]], dtype=uint8), array([[ 87, 184, 189]], dtype=uint8), array([[116, 237, 109]], dtype=uint8), array([[ 99, 172, 226]], dtype=uint8), array([[103, 235, 146]], dtype=uint8), array([[151,  62,  68]], dtype=uint8), array([[130, 160, 160]], dtype=uint8), array([[149,   6,  69]], dtype=uint8), array([[ 52, 253, 112]], dtype=uint8), array([[ 1,  3, 76]], dtype=uint8), array([[ 87, 233, 212]], dtype=uint8), array([[235, 245,  26]], dtype=uint8), array([[157, 253,  68]], dtype=uint8), array([[ 37, 219,  91]], dtype=uint8), array([[129,   9,  51]], dtype=uint8), array([[191,  20, 140]], dtype=uint8), array([[187, 147,   1]], dtype=uint8), array([[ 20, 153, 243]], dtype=uint8), array([[160,  68,  19]], dtype=uint8), array([[203, 209, 226]], dtype=uint8), array([[ 57,  77, 149]], dtype=uint8), array([[ 21, 112,  86]], dtype=uint8), array([[252,  24, 207]], dtype=uint8), array([[235, 242, 147]], dtype=uint8), array([[ 88, 107, 231]], dtype=uint8), array([[ 48, 254, 141]], dtype=uint8), array([[218, 161,  87]], dtype=uint8), array([[ 58, 100, 162]], dtype=uint8), array([[254,  73,  93]], dtype=uint8), array([[169, 222, 181]], dtype=uint8), array([[255,  71, 242]], dtype=uint8), array([[219, 253, 201]], dtype=uint8), array([[187,  10,  72]], dtype=uint8), array([[207, 227, 201]], dtype=uint8), array([[ 14, 231, 150]], dtype=uint8), array([[189,   0, 193]], dtype=uint8), array([[189, 251,  49]], dtype=uint8)]\n"
     ]
    }
   ],
   "source": [
    "print(mask_colors)\n"
   ],
   "metadata": {
    "collapsed": false,
    "pycharm": {
     "name": "#%%\n"
    }
   }
  },
  {
   "cell_type": "code",
   "execution_count": 81,
   "outputs": [],
   "source": [
    "color_masks = [\n",
    "    np.random.randint(0, 256, (1, 3), dtype=np.uint8)\n",
    "    for _ in range(49 + 1)\n",
    "]\n",
    "bbox_color = np.squeeze(color_masks[0], 0) #改为随机颜色，和语义分割保持一致\n",
    "r_color = int(bbox_color[0])\n",
    "g_color = int(bbox_color[1])\n",
    "b_color = int(bbox_color[2])\n",
    "rgb = (r_color,g_color,b_color)"
   ],
   "metadata": {
    "collapsed": false,
    "pycharm": {
     "name": "#%%\n"
    }
   }
  },
  {
   "cell_type": "code",
   "execution_count": 84,
   "outputs": [
    {
     "name": "stdout",
     "output_type": "stream",
     "text": [
      "mask color is : [array([[66, 77, 59]], dtype=uint8), array([[127, 224,  99]], dtype=uint8), array([[ 17, 104, 104]], dtype=uint8), array([[ 24, 135, 138]], dtype=uint8), array([[233, 127,  10]], dtype=uint8), array([[222, 214, 167]], dtype=uint8), array([[53, 90, 30]], dtype=uint8), array([[57,  2, 47]], dtype=uint8), array([[ 66, 149,  21]], dtype=uint8), array([[103, 135, 239]], dtype=uint8), array([[173, 202,   6]], dtype=uint8), array([[ 23, 143, 224]], dtype=uint8), array([[113, 178, 123]], dtype=uint8), array([[ 31,  29, 113]], dtype=uint8), array([[174,  15, 208]], dtype=uint8), array([[ 85,  43, 116]], dtype=uint8), array([[150,  70, 208]], dtype=uint8), array([[193, 139, 220]], dtype=uint8), array([[126, 222,  16]], dtype=uint8), array([[154,  64, 177]], dtype=uint8), array([[233,  41, 152]], dtype=uint8), array([[129, 133, 155]], dtype=uint8), array([[217, 175, 146]], dtype=uint8), array([[ 16,   3, 163]], dtype=uint8), array([[103, 108,  66]], dtype=uint8), array([[160, 159, 111]], dtype=uint8), array([[136, 157, 249]], dtype=uint8), array([[ 42, 255, 213]], dtype=uint8), array([[245,  48, 123]], dtype=uint8), array([[175, 156,   7]], dtype=uint8), array([[ 38, 156, 133]], dtype=uint8), array([[220, 213,  40]], dtype=uint8), array([[169,  22, 232]], dtype=uint8), array([[246,  74,  50]], dtype=uint8), array([[ 25, 194, 118]], dtype=uint8), array([[ 98, 151,  99]], dtype=uint8), array([[ 49, 199, 150]], dtype=uint8), array([[152, 115, 248]], dtype=uint8), array([[151,  41, 140]], dtype=uint8), array([[ 12,  34, 202]], dtype=uint8), array([[ 59,  91, 227]], dtype=uint8), array([[249,  85, 231]], dtype=uint8), array([[134, 203,  83]], dtype=uint8), array([[56, 95, 99]], dtype=uint8), array([[ 35, 176, 189]], dtype=uint8), array([[172,  18,  93]], dtype=uint8), array([[ 19, 240, 187]], dtype=uint8), array([[ 64,   9, 100]], dtype=uint8), array([[ 7, 47, 41]], dtype=uint8), array([[255,  25, 180]], dtype=uint8)]\n"
     ]
    }
   ],
   "source": [
    "print(\"mask color is :\",list(color_masks))\n"
   ],
   "metadata": {
    "collapsed": false,
    "pycharm": {
     "name": "#%%\n"
    }
   }
  },
  {
   "cell_type": "code",
   "execution_count": 87,
   "outputs": [
    {
     "name": "stdout",
     "output_type": "stream",
     "text": [
      "(66, 77, 59)\n",
      "(127, 224, 99)\n",
      "(17, 104, 104)\n",
      "(24, 135, 138)\n",
      "(233, 127, 10)\n",
      "(222, 214, 167)\n",
      "(53, 90, 30)\n",
      "(57, 2, 47)\n",
      "(66, 149, 21)\n",
      "(103, 135, 239)\n",
      "(173, 202, 6)\n",
      "(23, 143, 224)\n",
      "(113, 178, 123)\n",
      "(31, 29, 113)\n",
      "(174, 15, 208)\n",
      "(85, 43, 116)\n",
      "(150, 70, 208)\n",
      "(193, 139, 220)\n",
      "(126, 222, 16)\n",
      "(154, 64, 177)\n",
      "(233, 41, 152)\n",
      "(129, 133, 155)\n",
      "(217, 175, 146)\n",
      "(16, 3, 163)\n",
      "(103, 108, 66)\n",
      "(160, 159, 111)\n",
      "(136, 157, 249)\n",
      "(42, 255, 213)\n",
      "(245, 48, 123)\n",
      "(175, 156, 7)\n",
      "(38, 156, 133)\n",
      "(220, 213, 40)\n",
      "(169, 22, 232)\n",
      "(246, 74, 50)\n",
      "(25, 194, 118)\n",
      "(98, 151, 99)\n",
      "(49, 199, 150)\n",
      "(152, 115, 248)\n",
      "(151, 41, 140)\n",
      "(12, 34, 202)\n",
      "(59, 91, 227)\n",
      "(249, 85, 231)\n",
      "(134, 203, 83)\n",
      "(56, 95, 99)\n",
      "(35, 176, 189)\n",
      "(172, 18, 93)\n",
      "(19, 240, 187)\n",
      "(64, 9, 100)\n",
      "(7, 47, 41)\n",
      "(255, 25, 180)\n"
     ]
    }
   ],
   "source": [
    "for color in color_masks:\n",
    "    print(tuple(np.squeeze(color, 0)))"
   ],
   "metadata": {
    "collapsed": false,
    "pycharm": {
     "name": "#%%\n"
    }
   }
  },
  {
   "cell_type": "code",
   "execution_count": null,
   "outputs": [],
   "source": [
    "print(\"mask color is :\",mask_colors[1][::-1])"
   ],
   "metadata": {
    "collapsed": false,
    "pycharm": {
     "name": "#%%\n"
    }
   }
  },
  {
   "cell_type": "code",
   "execution_count": 34,
   "outputs": [],
   "source": [
    "from enum import Enum\n",
    "\n",
    "import numpy as np\n",
    "\n",
    "from mmcv.utils import is_str\n",
    "\n",
    "\n",
    "class Color(Enum):\n",
    "    \"\"\"An enum that defines common colors.\n",
    "\n",
    "    Contains red, green, blue, cyan, yellow, magenta, white and black.\n",
    "    \"\"\"\n",
    "    red = (0, 0, 255)\n",
    "    green = (0, 255, 0)\n",
    "    blue = (255, 0, 0)\n",
    "    cyan = (255, 255, 0)\n",
    "    yellow = (0, 255, 255)\n",
    "    magenta = (255, 0, 255)\n",
    "    white = (255, 255, 255)\n",
    "    black = (0, 0, 0)\n",
    "\n",
    "def color_val(color):\n",
    "    \"\"\"Convert various input to color tuples.\n",
    "\n",
    "    Args:\n",
    "        color (:obj:`Color`/str/tuple/int/ndarray): Color inputs\n",
    "\n",
    "    Returns:\n",
    "        tuple[int]: A tuple of 3 integers indicating BGR channels.\n",
    "    \"\"\"\n",
    "    if is_str(color):\n",
    "        return Color[color].value\n",
    "    elif isinstance(color, Color):\n",
    "        return color.value\n",
    "    elif isinstance(color, tuple):\n",
    "        assert len(color) == 3\n",
    "        for channel in color:\n",
    "            assert 0 <= channel <= 255\n",
    "        return color\n",
    "    elif isinstance(color, int):\n",
    "        assert 0 <= color <= 255\n",
    "        return color, color, color\n",
    "    elif isinstance(color, np.ndarray):\n",
    "        assert color.ndim == 1 and color.size == 3\n",
    "        assert np.all((color >= 0) & (color <= 255))\n",
    "        color = color.astype(np.uint8)\n",
    "        return tuple(color)\n",
    "    else:\n",
    "        raise TypeError(f'Invalid type for color: {type(color)}')"
   ],
   "metadata": {
    "collapsed": false,
    "pycharm": {
     "name": "#%%\n"
    }
   }
  },
  {
   "cell_type": "code",
   "execution_count": 38,
   "outputs": [
    {
     "name": "stdout",
     "output_type": "stream",
     "text": [
      "3\n"
     ]
    }
   ],
   "source": [
    "print(mask_colors[1].size)"
   ],
   "metadata": {
    "collapsed": false,
    "pycharm": {
     "name": "#%%\n"
    }
   }
  },
  {
   "cell_type": "code",
   "execution_count": 44,
   "outputs": [
    {
     "name": "stdout",
     "output_type": "stream",
     "text": [
      "<class 'numpy.ndarray'>\n"
     ]
    }
   ],
   "source": [
    "print(type(mask_colors[1]))"
   ],
   "metadata": {
    "collapsed": false,
    "pycharm": {
     "name": "#%%\n"
    }
   }
  },
  {
   "cell_type": "code",
   "execution_count": 50,
   "outputs": [
    {
     "name": "stdout",
     "output_type": "stream",
     "text": [
      "(0, 255, 0)\n"
     ]
    }
   ],
   "source": [
    "print(tuple(color_val('green')))"
   ],
   "metadata": {
    "collapsed": false,
    "pycharm": {
     "name": "#%%\n"
    }
   }
  },
  {
   "cell_type": "code",
   "execution_count": 53,
   "outputs": [
    {
     "name": "stdout",
     "output_type": "stream",
     "text": [
      "(array([179,  61, 234], dtype=uint8),)\n",
      "[102 220 225]\n",
      "(102, 220, 225)\n"
     ]
    }
   ],
   "source": [
    "import numpy as np\n",
    "print(tuple(mask_colors[1]))\n",
    "\n",
    "print(np.squeeze(mask_colors[0], 0))\n",
    "print(tuple(np.squeeze(mask_colors[0], 0)))"
   ],
   "metadata": {
    "collapsed": false,
    "pycharm": {
     "name": "#%%\n"
    }
   }
  },
  {
   "cell_type": "code",
   "execution_count": 58,
   "outputs": [
    {
     "ename": "error",
     "evalue": "OpenCV(4.5.2) :-1: error: (-5:Bad argument) in function 'rectangle'\n> Overload resolution failed:\n>  - Layout of the output array img is incompatible with cv::Mat (step[ndims-1] != elemsize or step[1] != elemsize*nchannels)\n>  - Expected Ptr<cv::UMat> for argument 'img'\n>  - argument for rectangle() given by name ('thickness') and position (4)\n>  - argument for rectangle() given by name ('thickness') and position (4)\n",
     "output_type": "error",
     "traceback": [
      "\u001B[0;31m---------------------------------------------------------------------------\u001B[0m",
      "\u001B[0;31merror\u001B[0m                                     Traceback (most recent call last)",
      "\u001B[0;32m<ipython-input-58-d29723108920>\u001B[0m in \u001B[0;36m<module>\u001B[0;34m\u001B[0m\n\u001B[1;32m      2\u001B[0m \u001B[0mimg\u001B[0m \u001B[0;34m=\u001B[0m \u001B[0mnp\u001B[0m\u001B[0;34m.\u001B[0m\u001B[0mrandom\u001B[0m\u001B[0;34m.\u001B[0m\u001B[0mrandint\u001B[0m\u001B[0;34m(\u001B[0m\u001B[0;36m0\u001B[0m\u001B[0;34m,\u001B[0m\u001B[0;36m255\u001B[0m\u001B[0;34m,\u001B[0m\u001B[0msize\u001B[0m\u001B[0;34m=\u001B[0m\u001B[0;34m[\u001B[0m\u001B[0;36m1\u001B[0m\u001B[0;34m,\u001B[0m\u001B[0;36m1\u001B[0m\u001B[0;34m,\u001B[0m\u001B[0;36m3\u001B[0m\u001B[0;34m]\u001B[0m\u001B[0;34m)\u001B[0m\u001B[0;34m\u001B[0m\u001B[0;34m\u001B[0m\u001B[0m\n\u001B[1;32m      3\u001B[0m cv2.rectangle(\n\u001B[0;32m----> 4\u001B[0;31m     img, (10,10), (20,20), tuple(np.squeeze(mask_colors[0], 0)), thickness=0.1)\n\u001B[0m",
      "\u001B[0;31merror\u001B[0m: OpenCV(4.5.2) :-1: error: (-5:Bad argument) in function 'rectangle'\n> Overload resolution failed:\n>  - Layout of the output array img is incompatible with cv::Mat (step[ndims-1] != elemsize or step[1] != elemsize*nchannels)\n>  - Expected Ptr<cv::UMat> for argument 'img'\n>  - argument for rectangle() given by name ('thickness') and position (4)\n>  - argument for rectangle() given by name ('thickness') and position (4)\n"
     ]
    }
   ],
   "source": [
    "import cv2\n",
    "img = np.random.randint(0,255,size=[1,1,3])\n",
    "cv2.rectangle(\n",
    "    img, (10,10), (20,20), tuple(np.squeeze(mask_colors[0], 0)), thickness=0.1)"
   ],
   "metadata": {
    "collapsed": false,
    "pycharm": {
     "name": "#%%\n"
    }
   }
  },
  {
   "cell_type": "code",
   "execution_count": 60,
   "outputs": [
    {
     "name": "stdout",
     "output_type": "stream",
     "text": [
      "(0, 0, 255)\n"
     ]
    }
   ],
   "source": [
    "color = (0,0,255)\n",
    "print(color)"
   ],
   "metadata": {
    "collapsed": false,
    "pycharm": {
     "name": "#%%\n"
    }
   }
  },
  {
   "cell_type": "code",
   "execution_count": 61,
   "outputs": [
    {
     "name": "stdout",
     "output_type": "stream",
     "text": [
      "3\n"
     ]
    }
   ],
   "source": [
    "print(len(color))"
   ],
   "metadata": {
    "collapsed": false,
    "pycharm": {
     "name": "#%%\n"
    }
   }
  },
  {
   "cell_type": "code",
   "execution_count": 62,
   "outputs": [
    {
     "name": "stdout",
     "output_type": "stream",
     "text": [
      "<class 'tuple'>\n"
     ]
    }
   ],
   "source": [
    "print(type(color))"
   ],
   "metadata": {
    "collapsed": false,
    "pycharm": {
     "name": "#%%\n"
    }
   }
  },
  {
   "cell_type": "code",
   "execution_count": 63,
   "outputs": [],
   "source": [
    "b = tuple(np.squeeze(mask_colors[0], 0))\n"
   ],
   "metadata": {
    "collapsed": false,
    "pycharm": {
     "name": "#%%\n"
    }
   }
  },
  {
   "cell_type": "code",
   "execution_count": 67,
   "outputs": [
    {
     "name": "stdout",
     "output_type": "stream",
     "text": [
      "102\n"
     ]
    }
   ],
   "source": [
    "print(b[0])"
   ],
   "metadata": {
    "collapsed": false,
    "pycharm": {
     "name": "#%%\n"
    }
   }
  },
  {
   "cell_type": "code",
   "execution_count": 68,
   "outputs": [
    {
     "name": "stdout",
     "output_type": "stream",
     "text": [
      "(102, 220, 225)\n"
     ]
    }
   ],
   "source": [
    "print(b)"
   ],
   "metadata": {
    "collapsed": false,
    "pycharm": {
     "name": "#%%\n"
    }
   }
  },
  {
   "cell_type": "code",
   "execution_count": null,
   "outputs": [],
   "source": [
    "color_masks = [\n",
    "    np.random.randint(0, 256, (1, 3), dtype=np.uint8)\n",
    "    for _ in range(49 + 1)\n",
    "]\n"
   ],
   "metadata": {
    "collapsed": false,
    "pycharm": {
     "name": "#%%\n"
    }
   }
  }
 ],
 "metadata": {
  "kernelspec": {
   "name": "zhangzhn",
   "language": "python",
   "display_name": "zhangzhn"
  },
  "language_info": {
   "codemirror_mode": {
    "name": "ipython",
    "version": 2
   },
   "file_extension": ".py",
   "mimetype": "text/x-python",
   "name": "python",
   "nbconvert_exporter": "python",
   "pygments_lexer": "ipython2",
   "version": "2.7.6"
  }
 },
 "nbformat": 4,
 "nbformat_minor": 0
}